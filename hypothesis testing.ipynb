{
 "cells": [
  {
   "cell_type": "markdown",
   "metadata": {},
   "source": [
    "This notebook essentially re-implements some of the examples from Think Stats 2e, by Allen Downey. I've tried to keep the names and the structure as similar as is reasonable, so that these examples can be clearly matched up with the Python examples from the book.\n",
    "\n",
    "A major change is that I don't use an object-oriented approach. From a pedagogical viewpoint, I think this is unfortunate. The abstraction that Allen implements is highly informative. I think it does a better job demonstrating the core elements of hypothesis testing than any other approach I've seen.\n",
    "\n",
    "However, in my very limited experience, most people who work in R do not naturally develop in an object-oriented way<sup>1</sup>. So for my first pass here, I went with what I think is most accessible example rather than most elegant. When I'm a better R developer, perhaps I'll change my mind and rewrite it all.\n",
    "\n",
    "<sup>1</sup> Please correct me on this, if you have reason to believe differently."
   ]
  },
  {
   "cell_type": "markdown",
   "metadata": {},
   "source": [
    "## test fairness of a coin"
   ]
  },
  {
   "cell_type": "code",
   "execution_count": null,
   "metadata": {},
   "outputs": [],
   "source": [
    "h <- 140\n",
    "t <- 110"
   ]
  },
  {
   "cell_type": "code",
   "execution_count": null,
   "metadata": {},
   "outputs": [],
   "source": [
    "coin_test.statistic  <- function(data) {\n",
    "    heads <- data[1]\n",
    "    tails <- data[2]\n",
    "    test_stat  <- abs(heads - tails)\n",
    "}\n",
    "\n",
    "coin_test.run_model <- function(data) {\n",
    "    n <- data[1] + data[2]\n",
    "    x <- sample(2, n, replace = TRUE)\n",
    "    result <- c(sum(x == 1), sum(x == 2))\n",
    "    return(result)\n",
    "}"
   ]
  },
  {
   "cell_type": "code",
   "execution_count": null,
   "metadata": {},
   "outputs": [],
   "source": [
    "iter  <- 1000\n",
    "\n",
    "actual.data  <- c(h, t)\n",
    "actual.statistic <- coin_test.statistic(actual.data)\n",
    "\n",
    "sim.statistic  <- numeric(iter)\n",
    "for (ii in 1:iter) {\n",
    "    run.data <- coin_test.run_model(actual.data)\n",
    "    sim.statistic[ii] <- coin_test.statistic(run.data)\n",
    "}"
   ]
  },
  {
   "cell_type": "code",
   "execution_count": null,
   "metadata": {},
   "outputs": [],
   "source": [
    "p  <- sum(sim.statistic > actual.statistic) / length(sim.statistic)\n",
    "\n",
    "writeLines(sprintf(\"the p-value is %.2e\", p))"
   ]
  }
 ],
 "metadata": {
  "kernelspec": {
   "display_name": "R",
   "language": "R",
   "name": "ir"
  },
  "language_info": {
   "codemirror_mode": "r",
   "file_extension": ".r",
   "mimetype": "text/x-r-source",
   "name": "R",
   "pygments_lexer": "r",
   "version": "3.4.2"
  }
 },
 "nbformat": 4,
 "nbformat_minor": 2
}
