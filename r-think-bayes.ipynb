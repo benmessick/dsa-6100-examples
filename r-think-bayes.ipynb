{
 "cells": [
  {
   "cell_type": "markdown",
   "metadata": {},
   "source": [
    "In *Think Bayes*, Downey introduces a framework for Bayesian statistics. Basically, it consists of\n",
    "\n",
    "* your hypotheses (called the *suite* in the book),\n",
    "* the probability for each hypotheses to be true (the *pmf*),\n",
    "* methods for updating those probabilities.\n",
    "\n",
    "The approach in the book is nice, because it provides a consistent structure that allows you to focus on each part of the modeling (semi-)separately, while still allowing each component to be represented in a way that is natural for the problem. That said, I'll not replicate the whole framework. Rather, I'll re-implement each piece ad hoc for each problem.\n",
    "\n",
    "Just as a reminder, Bayes theorem says $P\\left(A | B\\right) = \\frac{P\\left(B | A\\right) P\\left(A\\right)}{P\\left(B\\right)}$."
   ]
  },
  {
   "cell_type": "markdown",
   "metadata": {},
   "source": [
    "## The M&M problem\n",
    "\n",
    "Found on pages 6-7 and 16-17 of *Think Bayes*."
   ]
  },
  {
   "cell_type": "code",
   "execution_count": 147,
   "metadata": {},
   "outputs": [],
   "source": [
    "mnm.colors  <- c(\"brown\", \"yellow\", \"red\", \"green\", \"orange\", \"tan\", \"blue\")\n",
    "mix.94 <- c(30, 20, 20, 10, 10, 10, 0)\n",
    "mix.96 <- c(13, 14, 13, 20, 16, 0, 24)\n",
    "\n",
    "## a hypothesis is definied as a dataframe of possibilites\n",
    "## the rows are the colors, and the columns are the proportion of that color in the bags\n",
    "df.hypo1  <- data.frame(row.names = mnm.colors, \n",
    "                        bag.1 = mix.94, \n",
    "                        bag.2 = mix.96)\n",
    "\n",
    "df.hypo2  <- data.frame(row.names = mnm.colors, \n",
    "                        bag.1 = mix.96, \n",
    "                        bag.2 = mix.94)\n",
    "\n",
    "## take a hypothesis data frame and normalize each column\n",
    "NormalizeHypothesis  <- function(df.hypo, columns = NULL) {\n",
    "    if (is.null(columns)) {\n",
    "        columns  <- colnames(df.hypo)\n",
    "        }\n",
    "    for (column in columns){\n",
    "        df.hypo[, column]  <- df.hypo[, column] / sum(df.hypo[, column])\n",
    "    }\n",
    "    return(df.hypo)\n",
    "}\n",
    "\n",
    "df.hypo1  <- NormalizeHypothesis(df.hypo1)\n",
    "df.hypo2  <- NormalizeHypothesis(df.hypo2)\n",
    "\n",
    "## take an ordered list of (color, bag) and returns its likelihood, given the hypothesis\n",
    "LikelihoodMnM <- function(data, df.hypothesis) {\n",
    "    like  <- df.hypothesis[data[[1]], data[[2]]]\n",
    "    return(like)\n",
    "}"
   ]
  },
  {
   "cell_type": "markdown",
   "metadata": {},
   "source": [
    "Our suite of hypotheses is a list of hypotheses, accompanied by a column of our belief in each of those hypotheses. We simply require a function for updating our beliefs based on observations. We describe observations with an ordered pair describing the color and the bag that we pulled it from."
   ]
  },
  {
   "cell_type": "code",
   "execution_count": 148,
   "metadata": {},
   "outputs": [],
   "source": [
    "## normalize the belief we have in the hypotheses\n",
    "NormalizeSuite  <- function(suite) {\n",
    "    suite$probs  <- suite$probs / sum(suite$probs)\n",
    "    return(suite)\n",
    "}\n",
    "\n",
    "UpdateMnM <- function(data, suite) {\n",
    "    for (ii in 1:length(suite$hypos)) {\n",
    "        like  <- LikelihoodMnM(data, suite$hypos[[ii]])\n",
    "        suite$probs[[ii]] <- like * suite$probs[[ii]]\n",
    "    }\n",
    "    suite  <- NormalizeSuite(suite)\n",
    "    return(suite)\n",
    "}"
   ]
  },
  {
   "cell_type": "code",
   "execution_count": 149,
   "metadata": {},
   "outputs": [
    {
     "data": {
      "text/html": [
       "<dl>\n",
       "\t<dt>$hypos</dt>\n",
       "\t\t<dd><ol>\n",
       "\t<li><table>\n",
       "<thead><tr><th></th><th scope=col>bag.1</th><th scope=col>bag.2</th></tr></thead>\n",
       "<tbody>\n",
       "\t<tr><th scope=row>brown</th><td>0.3 </td><td>0.13</td></tr>\n",
       "\t<tr><th scope=row>yellow</th><td>0.2 </td><td>0.14</td></tr>\n",
       "\t<tr><th scope=row>red</th><td>0.2 </td><td>0.13</td></tr>\n",
       "\t<tr><th scope=row>green</th><td>0.1 </td><td>0.20</td></tr>\n",
       "\t<tr><th scope=row>orange</th><td>0.1 </td><td>0.16</td></tr>\n",
       "\t<tr><th scope=row>tan</th><td>0.1 </td><td>0.00</td></tr>\n",
       "\t<tr><th scope=row>blue</th><td>0.0 </td><td>0.24</td></tr>\n",
       "</tbody>\n",
       "</table>\n",
       "</li>\n",
       "\t<li><table>\n",
       "<thead><tr><th></th><th scope=col>bag.1</th><th scope=col>bag.2</th></tr></thead>\n",
       "<tbody>\n",
       "\t<tr><th scope=row>brown</th><td>0.13</td><td>0.3 </td></tr>\n",
       "\t<tr><th scope=row>yellow</th><td>0.14</td><td>0.2 </td></tr>\n",
       "\t<tr><th scope=row>red</th><td>0.13</td><td>0.2 </td></tr>\n",
       "\t<tr><th scope=row>green</th><td>0.20</td><td>0.1 </td></tr>\n",
       "\t<tr><th scope=row>orange</th><td>0.16</td><td>0.1 </td></tr>\n",
       "\t<tr><th scope=row>tan</th><td>0.00</td><td>0.1 </td></tr>\n",
       "\t<tr><th scope=row>blue</th><td>0.24</td><td>0.0 </td></tr>\n",
       "</tbody>\n",
       "</table>\n",
       "</li>\n",
       "</ol>\n",
       "</dd>\n",
       "\t<dt>$probs</dt>\n",
       "\t\t<dd><ol class=list-inline>\n",
       "\t<li>0.5</li>\n",
       "\t<li>0.5</li>\n",
       "</ol>\n",
       "</dd>\n",
       "</dl>\n"
      ],
      "text/latex": [
       "\\begin{description}\n",
       "\\item[\\$hypos] \\begin{enumerate}\n",
       "\\item \\begin{tabular}{r|ll}\n",
       "  & bag.1 & bag.2\\\\\n",
       "\\hline\n",
       "\tbrown & 0.3  & 0.13\\\\\n",
       "\tyellow & 0.2  & 0.14\\\\\n",
       "\tred & 0.2  & 0.13\\\\\n",
       "\tgreen & 0.1  & 0.20\\\\\n",
       "\torange & 0.1  & 0.16\\\\\n",
       "\ttan & 0.1  & 0.00\\\\\n",
       "\tblue & 0.0  & 0.24\\\\\n",
       "\\end{tabular}\n",
       "\n",
       "\\item \\begin{tabular}{r|ll}\n",
       "  & bag.1 & bag.2\\\\\n",
       "\\hline\n",
       "\tbrown & 0.13 & 0.3 \\\\\n",
       "\tyellow & 0.14 & 0.2 \\\\\n",
       "\tred & 0.13 & 0.2 \\\\\n",
       "\tgreen & 0.20 & 0.1 \\\\\n",
       "\torange & 0.16 & 0.1 \\\\\n",
       "\ttan & 0.00 & 0.1 \\\\\n",
       "\tblue & 0.24 & 0.0 \\\\\n",
       "\\end{tabular}\n",
       "\n",
       "\\end{enumerate}\n",
       "\n",
       "\\item[\\$probs] \\begin{enumerate*}\n",
       "\\item 0.5\n",
       "\\item 0.5\n",
       "\\end{enumerate*}\n",
       "\n",
       "\\end{description}\n"
      ],
      "text/markdown": [
       "$hypos\n",
       ":   1. \n",
       "| <!--/--> | bag.1 | bag.2 | \n",
       "|---|---|---|---|---|---|---|\n",
       "| brown | 0.3  | 0.13 | \n",
       "| yellow | 0.2  | 0.14 | \n",
       "| red | 0.2  | 0.13 | \n",
       "| green | 0.1  | 0.20 | \n",
       "| orange | 0.1  | 0.16 | \n",
       "| tan | 0.1  | 0.00 | \n",
       "| blue | 0.0  | 0.24 | \n",
       "\n",
       "\n",
       "\n",
       "2. \n",
       "| <!--/--> | bag.1 | bag.2 | \n",
       "|---|---|---|---|---|---|---|\n",
       "| brown | 0.13 | 0.3  | \n",
       "| yellow | 0.14 | 0.2  | \n",
       "| red | 0.13 | 0.2  | \n",
       "| green | 0.20 | 0.1  | \n",
       "| orange | 0.16 | 0.1  | \n",
       "| tan | 0.00 | 0.1  | \n",
       "| blue | 0.24 | 0.0  | \n",
       "\n",
       "\n",
       "\n",
       "\n",
       "\n",
       "\n",
       "$probs\n",
       ":   1. 0.5\n",
       "2. 0.5\n",
       "\n",
       "\n",
       "\n",
       "\n",
       "\n"
      ],
      "text/plain": [
       "$hypos\n",
       "$hypos[[1]]\n",
       "       bag.1 bag.2\n",
       "brown    0.3  0.13\n",
       "yellow   0.2  0.14\n",
       "red      0.2  0.13\n",
       "green    0.1  0.20\n",
       "orange   0.1  0.16\n",
       "tan      0.1  0.00\n",
       "blue     0.0  0.24\n",
       "\n",
       "$hypos[[2]]\n",
       "       bag.1 bag.2\n",
       "brown   0.13   0.3\n",
       "yellow  0.14   0.2\n",
       "red     0.13   0.2\n",
       "green   0.20   0.1\n",
       "orange  0.16   0.1\n",
       "tan     0.00   0.1\n",
       "blue    0.24   0.0\n",
       "\n",
       "\n",
       "$probs\n",
       "[1] 0.5 0.5\n"
      ]
     },
     "metadata": {},
     "output_type": "display_data"
    }
   ],
   "source": [
    "suite  <- list(hypos = list(df.hypo1, df.hypo2),\n",
    "               probs = c(1, 1))\n",
    "\n",
    "suite <- NormalizeSuite(suite)\n",
    "suite"
   ]
  },
  {
   "cell_type": "code",
   "execution_count": 150,
   "metadata": {},
   "outputs": [],
   "source": [
    "obs  <- list(list('yellow', 'bag.1'),\n",
    "            list('green', 'bag.2'))"
   ]
  },
  {
   "cell_type": "code",
   "execution_count": 151,
   "metadata": {},
   "outputs": [],
   "source": [
    "for (ii in 1:length(obs)) {\n",
    "    suite <- UpdateMnM(obs[[ii]], suite)\n",
    "}"
   ]
  },
  {
   "cell_type": "code",
   "execution_count": 152,
   "metadata": {},
   "outputs": [
    {
     "data": {
      "text/html": [
       "<ol class=list-inline>\n",
       "\t<li>0.740740740740741</li>\n",
       "\t<li>0.259259259259259</li>\n",
       "</ol>\n"
      ],
      "text/latex": [
       "\\begin{enumerate*}\n",
       "\\item 0.740740740740741\n",
       "\\item 0.259259259259259\n",
       "\\end{enumerate*}\n"
      ],
      "text/markdown": [
       "1. 0.740740740740741\n",
       "2. 0.259259259259259\n",
       "\n",
       "\n"
      ],
      "text/plain": [
       "[1] 0.7407407 0.2592593"
      ]
     },
     "metadata": {},
     "output_type": "display_data"
    }
   ],
   "source": [
    "suite$probs"
   ]
  }
 ],
 "metadata": {
  "kernelspec": {
   "display_name": "R",
   "language": "R",
   "name": "ir"
  },
  "language_info": {
   "codemirror_mode": "r",
   "file_extension": ".r",
   "mimetype": "text/x-r-source",
   "name": "R",
   "pygments_lexer": "r",
   "version": "3.4.2"
  }
 },
 "nbformat": 4,
 "nbformat_minor": 2
}
