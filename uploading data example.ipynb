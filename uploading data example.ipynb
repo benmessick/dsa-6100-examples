{
    "metadata": {
        "language_info": {
            "name": "python", 
            "mimetype": "text/x-python", 
            "nbconvert_exporter": "python", 
            "pygments_lexer": "ipython3", 
            "codemirror_mode": {
                "name": "ipython", 
                "version": 3
            }, 
            "file_extension": ".py", 
            "version": "3.5.2"
        }, 
        "kernelspec": {
            "display_name": "Python 3.5 (Experimental) with Spark 1.6 (Unsupported)", 
            "name": "python3", 
            "language": "python"
        }
    }, 
    "nbformat": 4, 
    "cells": [
        {
            "source": "import sys\nimport os\nimport types\nfrom botocore.client import Config\nimport ibm_boto3\nimport requests\nimport json\nimport boto3\nfrom boto3.s3.transfer import S3Transfer\n\nupload_flag = False", 
            "metadata": {}, 
            "execution_count": 1, 
            "cell_type": "code", 
            "outputs": []
        }, 
        {
            "source": "## you can get the credentials for your object store as a json file from IBM cloud\nwith open('admin_credentials.json') as data_file:\n    credentials = json.load(data_file)", 
            "metadata": {}, 
            "execution_count": 2, 
            "cell_type": "code", 
            "outputs": []
        }, 
        {
            "source": "endpoints = requests.get(credentials.get('endpoints')).json()\n\niam_host = (endpoints['identity-endpoints']['iam-token'])\ncos_host = (endpoints['service-endpoints']['cross-region']['us']['public']['us-geo'])\n\nauth_endpoint = \"https://\" + iam_host + \"/oidc/token\"\nservice_endpoint = \"https://\" + cos_host", 
            "metadata": {}, 
            "execution_count": 3, 
            "cell_type": "code", 
            "outputs": []
        }, 
        {
            "source": "api_key = credentials.get('apikey')\nservice_instance_id = credentials.get('resource_instance_id')", 
            "metadata": {}, 
            "execution_count": 4, 
            "cell_type": "code", 
            "outputs": []
        }, 
        {
            "source": "cos = ibm_boto3.client('s3',\n                    ibm_api_key_id=api_key,\n                    ibm_service_instance_id=service_instance_id,\n                    ibm_auth_endpoint=auth_endpoint,\n                    config=Config(signature_version='oauth'),\n                    endpoint_url=service_endpoint)", 
            "metadata": {}, 
            "execution_count": 5, 
            "cell_type": "code", 
            "outputs": []
        }, 
        {
            "source": "response = cos.list_buckets(IBMServiceInstanceId=service_instance_id)\nbuckets = [bucket['Name'] for bucket in response['Buckets']]\nbucket_name = buckets[0]\n# print(buckets)", 
            "metadata": {}, 
            "execution_count": 6, 
            "cell_type": "code", 
            "outputs": []
        }, 
        {
            "source": "## testing the uploading of a single file\n\n# file_name = 'D:/airplane data/airline-data-small/airline-information.csv'\n# target_name = 'test-airline-information.csv'\n\n# transfer = S3Transfer(cos)\n# transfer.upload_file(file_name, buckets[0], target_name)", 
            "metadata": {}, 
            "execution_count": 7, 
            "cell_type": "code", 
            "outputs": []
        }, 
        {
            "source": "## all data files are in a single directory\n## upload all the files in that directory\n\ndata_dir = \"D:/airplane data/airline-data-small\"\nfile_list = os.listdir(data_dir)\n\nif not upload_flag: \n    print(\"this is a test, no files are uploading\")\n    \nfor f in file_list:\n    file_name = data_dir + \"/\" + f\n    \n    print(\"uploading file {} \\nto {}\\n\".format(f, file_name))\n    if upload_flag: transfer.upload_file(file_name, buckets[0], f)", 
            "metadata": {}, 
            "execution_count": 8, 
            "cell_type": "code", 
            "outputs": [
                {
                    "name": "stdout", 
                    "output_type": "stream", 
                    "text": "uploading file airline-information.csv \nto D:/airplane data/airline-data-small/airline-information.csv\n\nuploading file airport-information.csv \nto D:/airplane data/airline-data-small/airport-information.csv\n\nuploading file On_Time_On_Time_Performance_2013_1.csv \nto D:/airplane data/airline-data-small/On_Time_On_Time_Performance_2013_1.csv\n\nuploading file On_Time_On_Time_Performance_2013_10.csv \nto D:/airplane data/airline-data-small/On_Time_On_Time_Performance_2013_10.csv\n\nuploading file On_Time_On_Time_Performance_2013_11.csv \nto D:/airplane data/airline-data-small/On_Time_On_Time_Performance_2013_11.csv\n\nuploading file On_Time_On_Time_Performance_2013_12.csv \nto D:/airplane data/airline-data-small/On_Time_On_Time_Performance_2013_12.csv\n\nuploading file On_Time_On_Time_Performance_2013_2.csv \nto D:/airplane data/airline-data-small/On_Time_On_Time_Performance_2013_2.csv\n\nuploading file On_Time_On_Time_Performance_2013_3.csv \nto D:/airplane data/airline-data-small/On_Time_On_Time_Performance_2013_3.csv\n\nuploading file On_Time_On_Time_Performance_2013_4.csv \nto D:/airplane data/airline-data-small/On_Time_On_Time_Performance_2013_4.csv\n\nuploading file On_Time_On_Time_Performance_2013_5.csv \nto D:/airplane data/airline-data-small/On_Time_On_Time_Performance_2013_5.csv\n\nuploading file On_Time_On_Time_Performance_2013_6.csv \nto D:/airplane data/airline-data-small/On_Time_On_Time_Performance_2013_6.csv\n\nuploading file On_Time_On_Time_Performance_2013_7.csv \nto D:/airplane data/airline-data-small/On_Time_On_Time_Performance_2013_7.csv\n\nuploading file On_Time_On_Time_Performance_2013_8.csv \nto D:/airplane data/airline-data-small/On_Time_On_Time_Performance_2013_8.csv\n\nuploading file On_Time_On_Time_Performance_2013_9.csv \nto D:/airplane data/airline-data-small/On_Time_On_Time_Performance_2013_9.csv\n\nuploading file On_Time_On_Time_Performance_2014_1.csv \nto D:/airplane data/airline-data-small/On_Time_On_Time_Performance_2014_1.csv\n\nuploading file On_Time_On_Time_Performance_2014_10.csv \nto D:/airplane data/airline-data-small/On_Time_On_Time_Performance_2014_10.csv\n\nuploading file On_Time_On_Time_Performance_2014_11.csv \nto D:/airplane data/airline-data-small/On_Time_On_Time_Performance_2014_11.csv\n\nuploading file On_Time_On_Time_Performance_2014_12.csv \nto D:/airplane data/airline-data-small/On_Time_On_Time_Performance_2014_12.csv\n\nuploading file On_Time_On_Time_Performance_2014_2.csv \nto D:/airplane data/airline-data-small/On_Time_On_Time_Performance_2014_2.csv\n\nuploading file On_Time_On_Time_Performance_2014_3.csv \nto D:/airplane data/airline-data-small/On_Time_On_Time_Performance_2014_3.csv\n\nuploading file On_Time_On_Time_Performance_2014_4.csv \nto D:/airplane data/airline-data-small/On_Time_On_Time_Performance_2014_4.csv\n\nuploading file On_Time_On_Time_Performance_2014_5.csv \nto D:/airplane data/airline-data-small/On_Time_On_Time_Performance_2014_5.csv\n\nuploading file On_Time_On_Time_Performance_2014_6.csv \nto D:/airplane data/airline-data-small/On_Time_On_Time_Performance_2014_6.csv\n\nuploading file On_Time_On_Time_Performance_2014_7.csv \nto D:/airplane data/airline-data-small/On_Time_On_Time_Performance_2014_7.csv\n\nuploading file On_Time_On_Time_Performance_2014_8.csv \nto D:/airplane data/airline-data-small/On_Time_On_Time_Performance_2014_8.csv\n\nuploading file On_Time_On_Time_Performance_2014_9.csv \nto D:/airplane data/airline-data-small/On_Time_On_Time_Performance_2014_9.csv\n\nuploading file On_Time_On_Time_Performance_2015_1.csv \nto D:/airplane data/airline-data-small/On_Time_On_Time_Performance_2015_1.csv\n\nuploading file On_Time_On_Time_Performance_2015_10.csv \nto D:/airplane data/airline-data-small/On_Time_On_Time_Performance_2015_10.csv\n\nuploading file On_Time_On_Time_Performance_2015_11.csv \nto D:/airplane data/airline-data-small/On_Time_On_Time_Performance_2015_11.csv\n\nuploading file On_Time_On_Time_Performance_2015_12.csv \nto D:/airplane data/airline-data-small/On_Time_On_Time_Performance_2015_12.csv\n\nuploading file On_Time_On_Time_Performance_2015_2.csv \nto D:/airplane data/airline-data-small/On_Time_On_Time_Performance_2015_2.csv\n\nuploading file On_Time_On_Time_Performance_2015_3.csv \nto D:/airplane data/airline-data-small/On_Time_On_Time_Performance_2015_3.csv\n\nuploading file On_Time_On_Time_Performance_2015_4.csv \nto D:/airplane data/airline-data-small/On_Time_On_Time_Performance_2015_4.csv\n\nuploading file On_Time_On_Time_Performance_2015_5.csv \nto D:/airplane data/airline-data-small/On_Time_On_Time_Performance_2015_5.csv\n\nuploading file On_Time_On_Time_Performance_2015_6.csv \nto D:/airplane data/airline-data-small/On_Time_On_Time_Performance_2015_6.csv\n\nuploading file On_Time_On_Time_Performance_2015_7.csv \nto D:/airplane data/airline-data-small/On_Time_On_Time_Performance_2015_7.csv\n\nuploading file On_Time_On_Time_Performance_2015_8.csv \nto D:/airplane data/airline-data-small/On_Time_On_Time_Performance_2015_8.csv\n\nuploading file On_Time_On_Time_Performance_2015_9.csv \nto D:/airplane data/airline-data-small/On_Time_On_Time_Performance_2015_9.csv\n\n"
                }
            ]
        }, 
        {
            "source": "## check that the files are all there\nresponse = cos.list_objects(Bucket=bucket_name)\nobjects = [object['Key'] for object in response['Contents']]\nprint(\"Objects in %s:\" % bucket_name)\nprint(json.dumps(objects, indent=2))", 
            "metadata": {}, 
            "execution_count": 9, 
            "cell_type": "code", 
            "outputs": [
                {
                    "name": "stdout", 
                    "output_type": "stream", 
                    "text": "Objects in testproject2dcc256e8ed34e9c91a5260d89b28db6:\n[\n  \"822054183_102017_233_airline_delay_causes.csv\",\n  \"On_Time_On_Time_Performance_2013_1.csv\",\n  \"On_Time_On_Time_Performance_2013_10.csv\",\n  \"On_Time_On_Time_Performance_2013_11.csv\",\n  \"On_Time_On_Time_Performance_2013_12.csv\",\n  \"On_Time_On_Time_Performance_2013_2.csv\",\n  \"On_Time_On_Time_Performance_2013_3.csv\",\n  \"On_Time_On_Time_Performance_2013_4.csv\",\n  \"On_Time_On_Time_Performance_2013_5.csv\",\n  \"On_Time_On_Time_Performance_2013_6.csv\",\n  \"On_Time_On_Time_Performance_2013_7.csv\",\n  \"On_Time_On_Time_Performance_2013_8.csv\",\n  \"On_Time_On_Time_Performance_2013_9.csv\",\n  \"On_Time_On_Time_Performance_2014_1.csv\",\n  \"On_Time_On_Time_Performance_2014_10.csv\",\n  \"On_Time_On_Time_Performance_2014_11.csv\",\n  \"On_Time_On_Time_Performance_2014_12.csv\",\n  \"On_Time_On_Time_Performance_2014_2.csv\",\n  \"On_Time_On_Time_Performance_2014_3.csv\",\n  \"On_Time_On_Time_Performance_2014_4.csv\",\n  \"On_Time_On_Time_Performance_2014_5.csv\",\n  \"On_Time_On_Time_Performance_2014_6.csv\",\n  \"On_Time_On_Time_Performance_2014_7.csv\",\n  \"On_Time_On_Time_Performance_2014_8.csv\",\n  \"On_Time_On_Time_Performance_2014_9.csv\",\n  \"On_Time_On_Time_Performance_2015_1.csv\",\n  \"On_Time_On_Time_Performance_2015_10.csv\",\n  \"On_Time_On_Time_Performance_2015_11.csv\",\n  \"On_Time_On_Time_Performance_2015_12.csv\",\n  \"On_Time_On_Time_Performance_2015_2.csv\",\n  \"On_Time_On_Time_Performance_2015_3.csv\",\n  \"On_Time_On_Time_Performance_2015_4.csv\",\n  \"On_Time_On_Time_Performance_2015_5.csv\",\n  \"On_Time_On_Time_Performance_2015_6.csv\",\n  \"On_Time_On_Time_Performance_2015_7.csv\",\n  \"On_Time_On_Time_Performance_2015_8.csv\",\n  \"On_Time_On_Time_Performance_2015_9.csv\",\n  \"airline-information.csv\",\n  \"airport-information.csv\",\n  \"airports.csv\",\n  \"carriers.csv\",\n  \"notebook/airline_delays_Vkp0MtJfV.ipynb\",\n  \"plane-data.csv\"\n]\n"
                }
            ]
        }
    ], 
    "nbformat_minor": 2
}